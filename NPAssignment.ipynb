{
  "nbformat": 4,
  "nbformat_minor": 0,
  "metadata": {
    "colab": {
      "provenance": []
    },
    "kernelspec": {
      "name": "python3",
      "display_name": "Python 3"
    },
    "language_info": {
      "name": "python"
    }
  },
  "cells": [
    {
      "cell_type": "code",
      "source": [
        "# Q1\n",
        "import numpy as np\n",
        "\n",
        "def nozero(arr):\n",
        "    return np.all(arr != 0)\n",
        "\n",
        "arr1 = np.array([1, 2, 3, 14, 86])\n",
        "arr2 = np.array([1, 2, 3, 14, 0])\n",
        "\n",
        "print(\"arr1 is:\", nozero(arr1))\n",
        "print(\"arr2 is:\", nozero(arr2))"
      ],
      "metadata": {
        "colab": {
          "base_uri": "https://localhost:8080/"
        },
        "id": "Qz-4WutD3Ix_",
        "outputId": "10cfbc82-3437-47a9-a4ce-dd5889971774"
      },
      "execution_count": 9,
      "outputs": [
        {
          "output_type": "stream",
          "name": "stdout",
          "text": [
            "arr1 is: True\n",
            "arr2 is: False\n"
          ]
        }
      ]
    },
    {
      "cell_type": "code",
      "source": [
        "# Q2\n",
        "def nozero(arr):\n",
        "    return np.any(arr != 0)\n",
        "\n",
        "arr1 = np.array([0, 0, 0, 0, 0])\n",
        "arr2 = np.array([0, 0, 3, 0, 0])\n",
        "\n",
        "print(\"arr1 is:\", nozero(arr1))\n",
        "print(\"arr2 is:\", nozero(arr2))"
      ],
      "metadata": {
        "colab": {
          "base_uri": "https://localhost:8080/"
        },
        "id": "oSu8xwiR3vyc",
        "outputId": "bbf00541-849b-40c7-84da-8ef09b056ded"
      },
      "execution_count": 13,
      "outputs": [
        {
          "output_type": "stream",
          "name": "stdout",
          "text": [
            "arr1 is: False\n",
            "arr2 is: True\n"
          ]
        }
      ]
    },
    {
      "cell_type": "code",
      "source": [
        "# Q3\n",
        "\n",
        "def element_wise_comparison(arr1, arr2, tolerance):\n",
        "    return np.isclose(arr1, arr2, atol=tolerance)\n",
        "\n",
        "# Example arrays\n",
        "array1 = np.array([1.0, 2.5, 3.0, 4.0])\n",
        "array2 = np.array([1.05, 2.499, 3, 4.06])\n",
        "\n",
        "tolerance_value = 0.05\n",
        "\n",
        "result = element_wise_comparison(array1, array2, tolerance_value)\n",
        "print(\"Element-wise comparison result:\", result)"
      ],
      "metadata": {
        "colab": {
          "base_uri": "https://localhost:8080/"
        },
        "id": "AQWfSI-z8uW2",
        "outputId": "5e3ddde3-aae6-4cd1-ea36-8686e92c053c"
      },
      "execution_count": 19,
      "outputs": [
        {
          "output_type": "stream",
          "name": "stdout",
          "text": [
            "Element-wise comparison result: [ True  True  True False]\n"
          ]
        }
      ]
    },
    {
      "cell_type": "code",
      "source": [
        "#Q4\n",
        "\n",
        "zeros_arr = np.zeros(10)\n",
        "ones_arr = np.ones(10)\n",
        "fives_arr = np.full(10,5)\n",
        "print(zeros_arr)\n",
        "print(ones_arr)\n",
        "print(fives_arr)\n",
        "\n",
        "all_array = np.concatenate((zeros_arr, ones_arr, fives_arr)) #concatenates the three arrays into a single array\n",
        "\n",
        "print(\"Combined Array:\", all_array)"
      ],
      "metadata": {
        "colab": {
          "base_uri": "https://localhost:8080/"
        },
        "id": "jBTr9LASCLWP",
        "outputId": "c179990f-3cb5-438b-e691-a33b2c069d82"
      },
      "execution_count": 24,
      "outputs": [
        {
          "output_type": "stream",
          "name": "stdout",
          "text": [
            "[0. 0. 0. 0. 0. 0. 0. 0. 0. 0.]\n",
            "[1. 1. 1. 1. 1. 1. 1. 1. 1. 1.]\n",
            "[5 5 5 5 5 5 5 5 5 5]\n",
            "Combined Array: [0. 0. 0. 0. 0. 0. 0. 0. 0. 0. 1. 1. 1. 1. 1. 1. 1. 1. 1. 1. 5. 5. 5. 5.\n",
            " 5. 5. 5. 5. 5. 5.]\n"
          ]
        }
      ]
    },
    {
      "cell_type": "code",
      "source": [
        "# Q5\n",
        "\n",
        "arr = np.arange(30 , 71)\n",
        "arr"
      ],
      "metadata": {
        "colab": {
          "base_uri": "https://localhost:8080/"
        },
        "id": "sDIYdfs3Dg7v",
        "outputId": "b929cb8b-3105-4729-f9a9-016b018e3377"
      },
      "execution_count": 26,
      "outputs": [
        {
          "output_type": "execute_result",
          "data": {
            "text/plain": [
              "array([30, 31, 32, 33, 34, 35, 36, 37, 38, 39, 40, 41, 42, 43, 44, 45, 46,\n",
              "       47, 48, 49, 50, 51, 52, 53, 54, 55, 56, 57, 58, 59, 60, 61, 62, 63,\n",
              "       64, 65, 66, 67, 68, 69, 70])"
            ]
          },
          "metadata": {},
          "execution_count": 26
        }
      ]
    },
    {
      "cell_type": "code",
      "source": [
        "# Q6\n",
        "\n",
        "identity_matrix = np.identity(3)\n",
        "print(\"3X3 identity_matrix\")\n",
        "identity_matrix"
      ],
      "metadata": {
        "colab": {
          "base_uri": "https://localhost:8080/"
        },
        "id": "5gfMxBAsEHTw",
        "outputId": "b448d50f-b219-47d2-a9b6-f70b3bb8cc4a"
      },
      "execution_count": 27,
      "outputs": [
        {
          "output_type": "stream",
          "name": "stdout",
          "text": [
            "3X3 identity_matrix\n"
          ]
        },
        {
          "output_type": "execute_result",
          "data": {
            "text/plain": [
              "array([[1., 0., 0.],\n",
              "       [0., 1., 0.],\n",
              "       [0., 0., 1.]])"
            ]
          },
          "metadata": {},
          "execution_count": 27
        }
      ]
    },
    {
      "cell_type": "code",
      "source": [
        "#Q7\n",
        "random_number = np.random.random() # from 0 to 1 only\n",
        "\n",
        "print(\"Random Number:\", random_number)\n",
        "\n",
        "random_number2 = np.random.uniform(1, 3) #from any given number to any given number\n",
        "\n",
        "print(\"Random Number:\", random_number2)"
      ],
      "metadata": {
        "colab": {
          "base_uri": "https://localhost:8080/"
        },
        "id": "tlgAnarjEmGR",
        "outputId": "0e2e868b-d4b4-4067-c87b-4d4f41b15d21"
      },
      "execution_count": 36,
      "outputs": [
        {
          "output_type": "stream",
          "name": "stdout",
          "text": [
            "Random Number: 0.5262480142499361\n",
            "Random Number: 2.24796672153901\n"
          ]
        }
      ]
    },
    {
      "cell_type": "code",
      "source": [
        "# Q8\n",
        "\n",
        "random_array = np.random.randn(15)\n",
        "\n",
        "print(\"Random Array from Standard Normal Distribution:\")\n",
        "print(random_array)"
      ],
      "metadata": {
        "colab": {
          "base_uri": "https://localhost:8080/"
        },
        "id": "KCa9YWJFFeh9",
        "outputId": "93c85e16-2457-40bf-ae18-4033fb18e67c"
      },
      "execution_count": 37,
      "outputs": [
        {
          "output_type": "stream",
          "name": "stdout",
          "text": [
            "Random Array from Standard Normal Distribution:\n",
            "[-0.17632916  0.78851391  0.20859822 -0.0239902   1.50271453  0.65399836\n",
            " -0.1211108  -0.398096    0.57359519 -0.1850402   0.82936749 -0.86011663\n",
            "  1.18544278 -1.3200259  -0.58404383]\n"
          ]
        }
      ]
    },
    {
      "cell_type": "code",
      "source": [
        "# Q9\n",
        "\n",
        "vector = np.arange(15, 56)\n",
        "vector[1:-1]"
      ],
      "metadata": {
        "colab": {
          "base_uri": "https://localhost:8080/"
        },
        "id": "7J_xwGg7Fy0_",
        "outputId": "293473d6-686b-4a99-94f6-7fe4fdc1407e"
      },
      "execution_count": 39,
      "outputs": [
        {
          "output_type": "execute_result",
          "data": {
            "text/plain": [
              "array([16, 17, 18, 19, 20, 21, 22, 23, 24, 25, 26, 27, 28, 29, 30, 31, 32,\n",
              "       33, 34, 35, 36, 37, 38, 39, 40, 41, 42, 43, 44, 45, 46, 47, 48, 49,\n",
              "       50, 51, 52, 53, 54])"
            ]
          },
          "metadata": {},
          "execution_count": 39
        }
      ]
    },
    {
      "cell_type": "code",
      "source": [
        "# Q10\n",
        "\n",
        "vector = np.random.randint(0, 11, 5) #lower_bound, upper_bound, size=vector_length\n",
        "vector"
      ],
      "metadata": {
        "colab": {
          "base_uri": "https://localhost:8080/"
        },
        "id": "XFZ8tz9FGODe",
        "outputId": "10dd78d5-6c8f-40cb-a5a1-86876bd5f76b"
      },
      "execution_count": 42,
      "outputs": [
        {
          "output_type": "execute_result",
          "data": {
            "text/plain": [
              "array([0, 1, 9, 2, 7])"
            ]
          },
          "metadata": {},
          "execution_count": 42
        }
      ]
    },
    {
      "cell_type": "code",
      "source": [
        "# Q11\n",
        "\n",
        "size = 10\n",
        "matrix = np.zeros((size, size))\n",
        "matrix[0, :] = 1  # Top border\n",
        "matrix[-1, :] = 1  # Bottom border\n",
        "matrix[:, 0] = 1  # Left border\n",
        "matrix[:, -1] = 1  # Right border\n",
        "matrix"
      ],
      "metadata": {
        "colab": {
          "base_uri": "https://localhost:8080/"
        },
        "id": "2HaJao6TG0Ol",
        "outputId": "221a6c92-fdbe-400c-fefe-0f3389875a45"
      },
      "execution_count": 45,
      "outputs": [
        {
          "output_type": "execute_result",
          "data": {
            "text/plain": [
              "array([[1., 1., 1., 1., 1., 1., 1., 1., 1., 1.],\n",
              "       [1., 0., 0., 0., 0., 0., 0., 0., 0., 1.],\n",
              "       [1., 0., 0., 0., 0., 0., 0., 0., 0., 1.],\n",
              "       [1., 0., 0., 0., 0., 0., 0., 0., 0., 1.],\n",
              "       [1., 0., 0., 0., 0., 0., 0., 0., 0., 1.],\n",
              "       [1., 0., 0., 0., 0., 0., 0., 0., 0., 1.],\n",
              "       [1., 0., 0., 0., 0., 0., 0., 0., 0., 1.],\n",
              "       [1., 0., 0., 0., 0., 0., 0., 0., 0., 1.],\n",
              "       [1., 0., 0., 0., 0., 0., 0., 0., 0., 1.],\n",
              "       [1., 1., 1., 1., 1., 1., 1., 1., 1., 1.]])"
            ]
          },
          "metadata": {},
          "execution_count": 45
        }
      ]
    },
    {
      "cell_type": "code",
      "source": [
        "#Q12\n",
        "\n",
        "matrix = np.diag([1 ,2 ,3,4,5])\n",
        "\n",
        "matrix\n"
      ],
      "metadata": {
        "colab": {
          "base_uri": "https://localhost:8080/"
        },
        "id": "9DcGXYrvHTgc",
        "outputId": "3ead0d27-b953-4fc5-cb8d-2c0d3ed43e51"
      },
      "execution_count": 50,
      "outputs": [
        {
          "output_type": "execute_result",
          "data": {
            "text/plain": [
              "array([[1, 0, 0, 0, 0],\n",
              "       [0, 2, 0, 0, 0],\n",
              "       [0, 0, 3, 0, 0],\n",
              "       [0, 0, 0, 4, 0],\n",
              "       [0, 0, 0, 0, 5]])"
            ]
          },
          "metadata": {},
          "execution_count": 50
        }
      ]
    },
    {
      "cell_type": "code",
      "source": [
        "#Q13\n",
        "\n",
        "size = 4\n",
        "\n",
        "matrix = np.zeros((size, size))\n",
        "matrix[::2, 1::2] = 1 #sets the elements in odd-numbered rows and even-numbered columns to 1.\n",
        "matrix[1::2, ::2] = 1 # sets the elements in even-numbered rows and odd-numbered columns to 1.\n",
        "\n",
        "print(matrix)"
      ],
      "metadata": {
        "colab": {
          "base_uri": "https://localhost:8080/"
        },
        "id": "NTveerWLIIet",
        "outputId": "34c4e5ca-7aea-414d-a319-4d2c6b7c79fd"
      },
      "execution_count": 53,
      "outputs": [
        {
          "output_type": "stream",
          "name": "stdout",
          "text": [
            "[[0. 1. 0. 1.]\n",
            " [1. 0. 1. 0.]\n",
            " [0. 1. 0. 1.]\n",
            " [1. 0. 1. 0.]]\n"
          ]
        }
      ]
    },
    {
      "cell_type": "code",
      "source": [
        "#Q14\n",
        "\n",
        "array1 = np.array([1, 2, 3, 4, 5])\n",
        "array2 = np.array([10, 20, 30, 40, 50])\n",
        "np.savez_compressed('arrays.npz', arr1=array1, arr2=array2)\n",
        "\n",
        "loaded_data = np.load('arrays.npz')\n",
        "loaded_array1 = loaded_data['arr1']\n",
        "loaded_array2 = loaded_data['arr2']\n",
        "\n",
        "print(\"Loaded Array 1:\", loaded_array1)\n",
        "print(\"Loaded Array 2:\", loaded_array2)\n"
      ],
      "metadata": {
        "colab": {
          "base_uri": "https://localhost:8080/"
        },
        "id": "tCvDv4OmIvEH",
        "outputId": "3650dcb2-354f-4795-f710-160541c60c10"
      },
      "execution_count": 60,
      "outputs": [
        {
          "output_type": "stream",
          "name": "stdout",
          "text": [
            "Loaded Array 1: [1 2 3 4 5]\n",
            "Loaded Array 2: [10 20 30 40 50]\n"
          ]
        }
      ]
    },
    {
      "cell_type": "code",
      "source": [
        "# Q14 again\n",
        "array1 = np.array([1, 2, 3, 4, 5])\n",
        "array2 = np.array([10, 20, 30, 40, 50])\n",
        "#to save single array\n",
        "np.save(file = \"arr.npy\" , arr = array1)\n",
        "np.load(file = \"arr.npy\")\n",
        "#to save multible arrays\n",
        "np.savez(file=\"arayz.npz\" , arr1 = array1 , arr2 = array2 )\n",
        "tmp = np.load(file=\"arayz.npz\")\n",
        "list(tmp.keys())"
      ],
      "metadata": {
        "colab": {
          "base_uri": "https://localhost:8080/"
        },
        "id": "qEd12DV_XZ9U",
        "outputId": "d0fef0b8-6bb4-499d-88de-611f3b003583"
      },
      "execution_count": 68,
      "outputs": [
        {
          "output_type": "execute_result",
          "data": {
            "text/plain": [
              "['arr1', 'arr2']"
            ]
          },
          "metadata": {},
          "execution_count": 68
        }
      ]
    },
    {
      "cell_type": "code",
      "source": [
        "tmp[\"arr1\"]"
      ],
      "metadata": {
        "colab": {
          "base_uri": "https://localhost:8080/"
        },
        "id": "0bOPncmWY4h5",
        "outputId": "cc5b6958-209e-4c0a-d657-e01861228cab"
      },
      "execution_count": 70,
      "outputs": [
        {
          "output_type": "execute_result",
          "data": {
            "text/plain": [
              "array([1, 2, 3, 4, 5])"
            ]
          },
          "metadata": {},
          "execution_count": 70
        }
      ]
    },
    {
      "cell_type": "code",
      "source": [
        "tmp[\"arr2\"]"
      ],
      "metadata": {
        "colab": {
          "base_uri": "https://localhost:8080/"
        },
        "id": "Bv0La8X7Y_aR",
        "outputId": "dd26e863-7dff-4bcb-e126-289570012860"
      },
      "execution_count": 71,
      "outputs": [
        {
          "output_type": "execute_result",
          "data": {
            "text/plain": [
              "array([10, 20, 30, 40, 50])"
            ]
          },
          "metadata": {},
          "execution_count": 71
        }
      ]
    },
    {
      "cell_type": "code",
      "source": [
        "#Q15\n",
        "\n",
        "# m4 fahem el so2al\n"
      ],
      "metadata": {
        "id": "ywSBRnzXaOCW"
      },
      "execution_count": null,
      "outputs": []
    },
    {
      "cell_type": "code",
      "source": [
        "#Q16\n",
        "given_number = 3\n",
        "arr = np.array([0.5,1,2,3,4,5,6])\n",
        "big = arr > given_number\n",
        "less = arr < given_number\n",
        "print(\"bigger than 3 : \", arr[big])\n",
        "print(\"less than 3 : \", arr[less])"
      ],
      "metadata": {
        "colab": {
          "base_uri": "https://localhost:8080/"
        },
        "id": "WGJCxDcSaXir",
        "outputId": "6e99bbc1-3dfd-49f4-e427-5fa667002053"
      },
      "execution_count": 77,
      "outputs": [
        {
          "output_type": "stream",
          "name": "stdout",
          "text": [
            "bigger than 3 :  [4. 5. 6.]\n",
            "less than 3 :  [0.5 1.  2. ]\n"
          ]
        }
      ]
    }
  ]
}